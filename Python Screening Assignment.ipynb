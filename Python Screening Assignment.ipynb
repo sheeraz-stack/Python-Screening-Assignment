{
 "cells": [
  {
   "cell_type": "code",
   "execution_count": null,
   "id": "87224138",
   "metadata": {},
   "outputs": [],
   "source": [
    "1. Create a function in python to read the text file and replace specific content of the file."
   ]
  },
  {
   "cell_type": "code",
   "execution_count": 33,
   "id": "505ed786",
   "metadata": {},
   "outputs": [
    {
     "name": "stdout",
     "output_type": "stream",
     "text": [
      "This is a placement assignment\n",
      "This is a screening assignment\n"
     ]
    }
   ],
   "source": [
    "with open(\"Desktop/Demo.txt\",\"r\")as f:\n",
    "    filedata=f.read()\n",
    "print(filedata)\n",
    "\n",
    "filedata = filedata.replace('placement', 'screening')\n",
    "with open(\"Desktop/Demo.txt\",\"w\")as f:\n",
    "    f.write(filedata)\n",
    "print(filedata)    "
   ]
  },
  {
   "cell_type": "code",
   "execution_count": null,
   "id": "f928401f",
   "metadata": {},
   "outputs": [],
   "source": [
    "2. Demonstrate use of abstract class, multiple inheritance and decorator in python using examples.\n",
    "\n",
    "Abstract CLass -By defining an abstract base class, you can define a common Application Program Interface(API) for a set of subclasses. \n",
    "  \n",
    ".Every abstract class in Python should be derived from the ABC class which is present in the abc module. Abstract class can contain Constructors, Variables, abstract methods, non-abstract methods, and Subclass.\n",
    ".Abstract methods should be implemented in the subclass or child class of the abstract class.\n",
    ".If in subclass the implementation of the abstract method is not provided, then that subclass, automatically, will become an abstract class. (demo3.py)"
   ]
  },
  {
   "cell_type": "code",
   "execution_count": 50,
   "id": "66256e32",
   "metadata": {},
   "outputs": [
    {
     "name": "stdout",
     "output_type": "stream",
     "text": [
      "Tata Car\n",
      "Mahindra car\n",
      "Hyundai car\n"
     ]
    }
   ],
   "source": [
    "from abc import ABC, abstractmethod\n",
    "class Car(ABC):\n",
    "    @abstractmethod\n",
    "    def CarCompany(self):\n",
    "        pass\n",
    "    \n",
    "class Tata(Car):\n",
    "    # overriding abstract method\n",
    "    def CarCompany(self):\n",
    "        print(\"Tata Car\")\n",
    "\n",
    "class Hyundai(Car):\n",
    "    # overriding abstract method\n",
    "    def CarCompany(self):\n",
    "        print(\"Hyundai car\")\n",
    "\n",
    "class Mahindra(Car):\n",
    "    # overriding abstract method\n",
    "    def CarCompany(self):\n",
    "        print(\"Mahindra car\")\n",
    "\n",
    "# Driver code\n",
    "T = Tata()\n",
    "T.CarCompany()\n",
    "\n",
    "M = Mahindra()\n",
    "M.CarCompany()\n",
    "\n",
    "H = Hyundai()\n",
    "H.CarCompany()"
   ]
  },
  {
   "cell_type": "code",
   "execution_count": null,
   "id": "cf57d3c8",
   "metadata": {},
   "outputs": [],
   "source": [
    "Multiple inheritance - When a class is derived from more than one base class it is called multiple Inheritance. The derived class inherits all the features of the base case."
   ]
  },
  {
   "cell_type": "code",
   "execution_count": 32,
   "id": "ada365f1",
   "metadata": {
    "scrolled": true
   },
   "outputs": [
    {
     "name": "stdout",
     "output_type": "stream",
     "text": [
      "I smash and I've got the brains!\n"
     ]
    }
   ],
   "source": [
    "class hulk:\n",
    "    def smash(self):\n",
    "        return \"I smash\"\n",
    "\n",
    "class banner:\n",
    "    def speak(self):\n",
    "        return \"I've got the brains!\"\n",
    "\n",
    "class smarthulk(hulk, banner):\n",
    "    pass\n",
    "\n",
    "s1 = smarthulk()\n",
    "print(s1.smash(), \"and\", s1.speak())"
   ]
  },
  {
   "cell_type": "code",
   "execution_count": null,
   "id": "80668b6d",
   "metadata": {},
   "outputs": [],
   "source": [
    "Decorator - In Decorators, functions are taken as the argument into another function and then called inside the wrapper function.\n",
    "You'll use a decorator when you need to change the behavior of a function without modifying the function itself. "
   ]
  },
  {
   "cell_type": "code",
   "execution_count": 34,
   "id": "5f026539",
   "metadata": {},
   "outputs": [
    {
     "name": "stdout",
     "output_type": "stream",
     "text": [
      "Hello, this is before function execution\n",
      "This is inside the function !!\n",
      "This is after function execution\n"
     ]
    }
   ],
   "source": [
    "def hello_decorator(func):\n",
    " \n",
    "    # inner1 is a Wrapper function in\n",
    "    # which the argument is called\n",
    "     \n",
    "    # inner function can access the outer local\n",
    "    # functions like in this case \"func\"\n",
    "    def inner1():\n",
    "        print(\"Hello, this is before function execution\")\n",
    " \n",
    "        # calling the actual function now\n",
    "        # inside the wrapper function.\n",
    "        func()\n",
    "        print(\"This is after function execution\")\n",
    "         \n",
    "    return inner1\n",
    " \n",
    " \n",
    "# defining a function, to be called inside wrapper\n",
    "def function_to_be_used():\n",
    "    print(\"This is inside the function !!\")\n",
    " \n",
    " \n",
    "# passing 'function_to_be_used' inside the\n",
    "# decorator to control its behaviour\n",
    "function_to_be_used = hello_decorator(function_to_be_used)\n",
    " \n",
    " \n",
    "# calling the function\n",
    "function_to_be_used()"
   ]
  }
 ],
 "metadata": {
  "kernelspec": {
   "display_name": "Python 3 (ipykernel)",
   "language": "python",
   "name": "python3"
  },
  "language_info": {
   "codemirror_mode": {
    "name": "ipython",
    "version": 3
   },
   "file_extension": ".py",
   "mimetype": "text/x-python",
   "name": "python",
   "nbconvert_exporter": "python",
   "pygments_lexer": "ipython3",
   "version": "3.9.7"
  }
 },
 "nbformat": 4,
 "nbformat_minor": 5
}
